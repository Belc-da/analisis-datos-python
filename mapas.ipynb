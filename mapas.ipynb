{
 "cells": [
  {
   "cell_type": "markdown",
   "metadata": {},
   "source": [
    "# Mapas"
   ]
  },
  {
   "cell_type": "markdown",
   "metadata": {},
   "source": [
    "En este notebook, vas a explorar distintas formas de generar mapas y visualizar datos geográficos en mapas interactivos con python."
   ]
  },
  {
   "cell_type": "markdown",
   "metadata": {},
   "source": [
    "## Librerías"
   ]
  },
  {
   "cell_type": "markdown",
   "metadata": {},
   "source": [
    "`folium` es una librería que simplifica la generación de mapas interactivos en python."
   ]
  },
  {
   "cell_type": "code",
   "execution_count": 1,
   "metadata": {
    "ExecuteTime": {
     "end_time": "2019-07-27T22:16:21.456714Z",
     "start_time": "2019-07-27T22:16:20.626505Z"
    }
   },
   "outputs": [],
   "source": [
    "import folium\n",
    "from folium.plugins import DualMap"
   ]
  },
  {
   "cell_type": "code",
   "execution_count": 2,
   "metadata": {
    "ExecuteTime": {
     "end_time": "2019-07-27T22:16:21.584503Z",
     "start_time": "2019-07-27T22:16:21.458939Z"
    }
   },
   "outputs": [],
   "source": [
    "# permite que los gráficos se vean directamente en el notebook\n",
    "%matplotlib inline \n",
    "\n",
    "# aplica una hoja de estilos para los gráficos\n",
    "import matplotlib.pyplot as plt\n",
    "plt.style.use('ggplot') "
   ]
  },
  {
   "cell_type": "code",
   "execution_count": 3,
   "metadata": {
    "ExecuteTime": {
     "end_time": "2019-07-27T22:16:21.676817Z",
     "start_time": "2019-07-27T22:16:21.586459Z"
    }
   },
   "outputs": [],
   "source": [
    "import pandas as pd\n",
    "import geopandas as gpd\n",
    "from shapely.geometry import Polygon, MultiPolygon"
   ]
  },
  {
   "cell_type": "markdown",
   "metadata": {},
   "source": [
    "## Mapas base"
   ]
  },
  {
   "cell_type": "markdown",
   "metadata": {},
   "source": [
    "En forma similar a como funciona Google Maps, podés crear un mapa apuntando a alguna parte del planeta y modificando el zoom o el estilo del mapa base de fondo."
   ]
  },
  {
   "cell_type": "code",
   "execution_count": 4,
   "metadata": {
    "ExecuteTime": {
     "end_time": "2019-07-27T22:16:21.682334Z",
     "start_time": "2019-07-27T22:16:21.679544Z"
    }
   },
   "outputs": [],
   "source": [
    "obelisco_coords = [-34.6037, -58.3815]"
   ]
  },
  {
   "cell_type": "code",
   "execution_count": null,
   "metadata": {
    "ExecuteTime": {
     "start_time": "2019-07-27T22:16:20.633Z"
    }
   },
   "outputs": [],
   "source": [
    "mapa = folium.Map(location=obelisco_coords, zoom_start=17)"
   ]
  },
  {
   "cell_type": "code",
   "execution_count": null,
   "metadata": {
    "ExecuteTime": {
     "start_time": "2019-07-27T22:16:20.636Z"
    }
   },
   "outputs": [
    {
     "data": {
      "text/html": [
       "<div style=\"width:100%;\"><div style=\"position:relative;width:100%;height:0;padding-bottom:60%;\"><iframe src=\"data:text/html;charset=utf-8;base64,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\" style=\"position:absolute;width:100%;height:100%;left:0;top:0;border:none !important;\" allowfullscreen webkitallowfullscreen mozallowfullscreen></iframe></div></div>"
      ],
      "text/plain": [
       "<folium.folium.Map at 0x113c71b00>"
      ]
     },
     "execution_count": 6,
     "metadata": {},
     "output_type": "execute_result"
    }
   ],
   "source": [
    "mapa"
   ]
  },
  {
   "cell_type": "markdown",
   "metadata": {},
   "source": [
    "`folium` te permite elegir entre algunos mapas base predefinidos, o usar un servicio como MapBox."
   ]
  },
  {
   "cell_type": "code",
   "execution_count": null,
   "metadata": {
    "ExecuteTime": {
     "start_time": "2019-07-27T22:16:20.639Z"
    }
   },
   "outputs": [
    {
     "data": {
      "text/html": [
       "<div style=\"width:100%;\"><div style=\"position:relative;width:100%;height:0;padding-bottom:60%;\"><iframe src=\"data:text/html;charset=utf-8;base64,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\" style=\"position:absolute;width:100%;height:100%;left:0;top:0;border:none !important;\" allowfullscreen webkitallowfullscreen mozallowfullscreen></iframe></div></div>"
      ],
      "text/plain": [
       "<folium.folium.Map at 0x119b78128>"
      ]
     },
     "execution_count": 7,
     "metadata": {},
     "output_type": "execute_result"
    }
   ],
   "source": [
    "folium.Map(location=obelisco_coords, zoom_start=17, tiles=\"Stamen Toner\")"
   ]
  },
  {
   "cell_type": "markdown",
   "metadata": {},
   "source": [
    "## Mapas de calor"
   ]
  },
  {
   "cell_type": "markdown",
   "metadata": {},
   "source": [
    "Primero cargamos los datos que queremos mostrar en el mapa en un DataFrame."
   ]
  },
  {
   "cell_type": "code",
   "execution_count": null,
   "metadata": {
    "ExecuteTime": {
     "start_time": "2019-07-27T22:16:20.642Z"
    }
   },
   "outputs": [],
   "source": [
    "df_patentamientos = pd.read_csv(\"data/patentamientos_2018.csv\", dtype={\"provincia_id\": str})"
   ]
  },
  {
   "cell_type": "code",
   "execution_count": null,
   "metadata": {
    "ExecuteTime": {
     "start_time": "2019-07-27T22:16:20.644Z"
    }
   },
   "outputs": [
    {
     "data": {
      "text/html": [
       "<div>\n",
       "<style scoped>\n",
       "    .dataframe tbody tr th:only-of-type {\n",
       "        vertical-align: middle;\n",
       "    }\n",
       "\n",
       "    .dataframe tbody tr th {\n",
       "        vertical-align: top;\n",
       "    }\n",
       "\n",
       "    .dataframe thead th {\n",
       "        text-align: right;\n",
       "    }\n",
       "</style>\n",
       "<table border=\"1\" class=\"dataframe\">\n",
       "  <thead>\n",
       "    <tr style=\"text-align: right;\">\n",
       "      <th></th>\n",
       "      <th>provincia_id</th>\n",
       "      <th>provincia_nombre</th>\n",
       "      <th>autos_patent_1000hab</th>\n",
       "    </tr>\n",
       "  </thead>\n",
       "  <tbody>\n",
       "    <tr>\n",
       "      <th>0</th>\n",
       "      <td>14</td>\n",
       "      <td>Córdoba</td>\n",
       "      <td>21.956944</td>\n",
       "    </tr>\n",
       "    <tr>\n",
       "      <th>1</th>\n",
       "      <td>22</td>\n",
       "      <td>Chaco</td>\n",
       "      <td>16.265459</td>\n",
       "    </tr>\n",
       "    <tr>\n",
       "      <th>2</th>\n",
       "      <td>26</td>\n",
       "      <td>Chubut</td>\n",
       "      <td>27.813430</td>\n",
       "    </tr>\n",
       "    <tr>\n",
       "      <th>3</th>\n",
       "      <td>06</td>\n",
       "      <td>Buenos Aires</td>\n",
       "      <td>14.050967</td>\n",
       "    </tr>\n",
       "    <tr>\n",
       "      <th>4</th>\n",
       "      <td>10</td>\n",
       "      <td>Catamarca</td>\n",
       "      <td>17.638037</td>\n",
       "    </tr>\n",
       "    <tr>\n",
       "      <th>5</th>\n",
       "      <td>30</td>\n",
       "      <td>Entre Ríos</td>\n",
       "      <td>14.313720</td>\n",
       "    </tr>\n",
       "    <tr>\n",
       "      <th>6</th>\n",
       "      <td>34</td>\n",
       "      <td>Formosa</td>\n",
       "      <td>13.802050</td>\n",
       "    </tr>\n",
       "    <tr>\n",
       "      <th>7</th>\n",
       "      <td>42</td>\n",
       "      <td>La Pampa</td>\n",
       "      <td>24.981696</td>\n",
       "    </tr>\n",
       "    <tr>\n",
       "      <th>8</th>\n",
       "      <td>62</td>\n",
       "      <td>Río Negro</td>\n",
       "      <td>18.876913</td>\n",
       "    </tr>\n",
       "    <tr>\n",
       "      <th>9</th>\n",
       "      <td>70</td>\n",
       "      <td>San Juan</td>\n",
       "      <td>12.687321</td>\n",
       "    </tr>\n",
       "    <tr>\n",
       "      <th>10</th>\n",
       "      <td>78</td>\n",
       "      <td>Santa Cruz</td>\n",
       "      <td>23.357778</td>\n",
       "    </tr>\n",
       "    <tr>\n",
       "      <th>11</th>\n",
       "      <td>82</td>\n",
       "      <td>Santa Fe</td>\n",
       "      <td>18.621496</td>\n",
       "    </tr>\n",
       "    <tr>\n",
       "      <th>12</th>\n",
       "      <td>94</td>\n",
       "      <td>Tierra del Fuego, Antártida e Islas del Atlánt...</td>\n",
       "      <td>48.058735</td>\n",
       "    </tr>\n",
       "    <tr>\n",
       "      <th>13</th>\n",
       "      <td>38</td>\n",
       "      <td>Jujuy</td>\n",
       "      <td>15.768858</td>\n",
       "    </tr>\n",
       "    <tr>\n",
       "      <th>14</th>\n",
       "      <td>54</td>\n",
       "      <td>Misiones</td>\n",
       "      <td>10.191562</td>\n",
       "    </tr>\n",
       "    <tr>\n",
       "      <th>15</th>\n",
       "      <td>02</td>\n",
       "      <td>Ciudad Autónoma de Buenos Aires</td>\n",
       "      <td>41.965188</td>\n",
       "    </tr>\n",
       "    <tr>\n",
       "      <th>16</th>\n",
       "      <td>18</td>\n",
       "      <td>Corrientes</td>\n",
       "      <td>16.405651</td>\n",
       "    </tr>\n",
       "    <tr>\n",
       "      <th>17</th>\n",
       "      <td>46</td>\n",
       "      <td>La Rioja</td>\n",
       "      <td>15.390637</td>\n",
       "    </tr>\n",
       "    <tr>\n",
       "      <th>18</th>\n",
       "      <td>66</td>\n",
       "      <td>Salta</td>\n",
       "      <td>15.391795</td>\n",
       "    </tr>\n",
       "    <tr>\n",
       "      <th>19</th>\n",
       "      <td>86</td>\n",
       "      <td>Santiago del Estero</td>\n",
       "      <td>11.310189</td>\n",
       "    </tr>\n",
       "    <tr>\n",
       "      <th>20</th>\n",
       "      <td>50</td>\n",
       "      <td>Mendoza</td>\n",
       "      <td>16.112508</td>\n",
       "    </tr>\n",
       "    <tr>\n",
       "      <th>21</th>\n",
       "      <td>58</td>\n",
       "      <td>Neuquén</td>\n",
       "      <td>31.135588</td>\n",
       "    </tr>\n",
       "    <tr>\n",
       "      <th>22</th>\n",
       "      <td>74</td>\n",
       "      <td>San Luis</td>\n",
       "      <td>19.950406</td>\n",
       "    </tr>\n",
       "    <tr>\n",
       "      <th>23</th>\n",
       "      <td>90</td>\n",
       "      <td>Tucumán</td>\n",
       "      <td>16.898696</td>\n",
       "    </tr>\n",
       "  </tbody>\n",
       "</table>\n",
       "</div>"
      ],
      "text/plain": [
       "   provincia_id                                   provincia_nombre  \\\n",
       "0            14                                            Córdoba   \n",
       "1            22                                              Chaco   \n",
       "2            26                                             Chubut   \n",
       "3            06                                       Buenos Aires   \n",
       "4            10                                          Catamarca   \n",
       "5            30                                         Entre Ríos   \n",
       "6            34                                            Formosa   \n",
       "7            42                                           La Pampa   \n",
       "8            62                                          Río Negro   \n",
       "9            70                                           San Juan   \n",
       "10           78                                         Santa Cruz   \n",
       "11           82                                           Santa Fe   \n",
       "12           94  Tierra del Fuego, Antártida e Islas del Atlánt...   \n",
       "13           38                                              Jujuy   \n",
       "14           54                                           Misiones   \n",
       "15           02                    Ciudad Autónoma de Buenos Aires   \n",
       "16           18                                         Corrientes   \n",
       "17           46                                           La Rioja   \n",
       "18           66                                              Salta   \n",
       "19           86                                Santiago del Estero   \n",
       "20           50                                            Mendoza   \n",
       "21           58                                            Neuquén   \n",
       "22           74                                           San Luis   \n",
       "23           90                                            Tucumán   \n",
       "\n",
       "    autos_patent_1000hab  \n",
       "0              21.956944  \n",
       "1              16.265459  \n",
       "2              27.813430  \n",
       "3              14.050967  \n",
       "4              17.638037  \n",
       "5              14.313720  \n",
       "6              13.802050  \n",
       "7              24.981696  \n",
       "8              18.876913  \n",
       "9              12.687321  \n",
       "10             23.357778  \n",
       "11             18.621496  \n",
       "12             48.058735  \n",
       "13             15.768858  \n",
       "14             10.191562  \n",
       "15             41.965188  \n",
       "16             16.405651  \n",
       "17             15.390637  \n",
       "18             15.391795  \n",
       "19             11.310189  \n",
       "20             16.112508  \n",
       "21             31.135588  \n",
       "22             19.950406  \n",
       "23             16.898696  "
      ]
     },
     "execution_count": 9,
     "metadata": {},
     "output_type": "execute_result"
    }
   ],
   "source": [
    "df_patentamientos"
   ]
  },
  {
   "cell_type": "markdown",
   "metadata": {},
   "source": [
    "Después armamos el mapa base. Como vamos a armar un mapa donde se ve toda la argentina, se puede usar la capa de OSM sin etiquetas o la capa del IGN con las etiquetas oficiales."
   ]
  },
  {
   "cell_type": "code",
   "execution_count": null,
   "metadata": {
    "ExecuteTime": {
     "start_time": "2019-07-27T22:16:20.646Z"
    }
   },
   "outputs": [
    {
     "data": {
      "text/plain": [
       "<folium.raster_layers.TileLayer at 0x119bf42b0>"
      ]
     },
     "execution_count": 10,
     "metadata": {},
     "output_type": "execute_result"
    }
   ],
   "source": [
    "# creamos mapa base sin etiquetas\n",
    "argentina_coords = [-40, -64]\n",
    "osm_no_labels = \"https://tiles.wmflabs.org/osm-no-labels/{z}/{x}/{y}.png\"\n",
    "ign_labels = \"http://wms.ign.gob.ar/geoserver/gwc/service/tms/1.0.0/capabaseargenmap@EPSG%3A3857@png/{z}/{x}/{y}.png\"\n",
    "\n",
    "mapa_patentamientos = folium.Map(location=argentina_coords, zoom_start=4)\n",
    "\n",
    "folium.TileLayer(ign_labels, tms=True, attr=\"IGN\").add_to(mapa_patentamientos)"
   ]
  },
  {
   "cell_type": "code",
   "execution_count": null,
   "metadata": {
    "ExecuteTime": {
     "start_time": "2019-07-27T22:16:20.650Z"
    }
   },
   "outputs": [
    {
     "data": {
      "text/html": [
       "<div style=\"width:100%;\"><div style=\"position:relative;width:100%;height:0;padding-bottom:60%;\"><iframe src=\"data:text/html;charset=utf-8;base64,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\" style=\"position:absolute;width:100%;height:100%;left:0;top:0;border:none !important;\" allowfullscreen webkitallowfullscreen mozallowfullscreen></iframe></div></div>"
      ],
      "text/plain": [
       "<folium.folium.Map at 0x119bf4240>"
      ]
     },
     "execution_count": 11,
     "metadata": {},
     "output_type": "execute_result"
    }
   ],
   "source": [
    "mapa_patentamientos"
   ]
  },
  {
   "cell_type": "markdown",
   "metadata": {},
   "source": [
    "Ahora tenemos que agregar la capa de provincias, sobre la cual vamos a graficar los datos que queramos. Podemos descargarla desde la API del Servicio de Normalización de Datos Geográficos de Argentina y luego simplificarla, porque la capa original es demasiado pesada para graficar en folium."
   ]
  },
  {
   "cell_type": "code",
   "execution_count": null,
   "metadata": {
    "ExecuteTime": {
     "start_time": "2019-07-27T22:16:20.652Z"
    }
   },
   "outputs": [],
   "source": [
    "# leemos usando GeoPandas\n",
    "provincias = gpd.read_file(\"https://apis.datos.gob.ar/georef/api/provincias?formato=shp&max=100\")\n",
    "provincias.crs = {'init' :'epsg:3857'}"
   ]
  },
  {
   "cell_type": "code",
   "execution_count": null,
   "metadata": {
    "ExecuteTime": {
     "start_time": "2019-07-27T22:16:20.654Z"
    }
   },
   "outputs": [],
   "source": [
    "# simplificamos cada una de las geometrías y las guardamos todas como MultiPolygon\n",
    "tolerance = 0.1\n",
    "provincias[\"geometry\"] = [\n",
    "    MultiPolygon([feature.simplify(tolerance=tolerance, preserve_topology=True)])\n",
    "    if type(feature) == Polygon\n",
    "    else feature.simplify(tolerance=tolerance, preserve_topology=True) \n",
    "    for feature in provincias[\"geometry\"]\n",
    "]"
   ]
  },
  {
   "cell_type": "code",
   "execution_count": null,
   "metadata": {
    "ExecuteTime": {
     "start_time": "2019-07-27T22:16:20.655Z"
    }
   },
   "outputs": [],
   "source": [
    "# guardamos en un GeoJson, que es lo que folium necesitará para agregar la capa\n",
    "provincias.to_file(\"data/provincias.geojson\", driver='GeoJSON')"
   ]
  },
  {
   "cell_type": "markdown",
   "metadata": {},
   "source": [
    "Ahora tenemos que agregar finalmente la capa de las provincias con los datos que queremos graficar en ella."
   ]
  },
  {
   "cell_type": "code",
   "execution_count": null,
   "metadata": {
    "ExecuteTime": {
     "start_time": "2019-07-27T22:16:20.657Z"
    }
   },
   "outputs": [],
   "source": [
    "folium.Choropleth(\n",
    "    geo_data=\"data/provincias.geojson\", # la capa de provincias en GeoJson\n",
    "    data=df_patentamientos, # DataFrame con los datos a graficar\n",
    "    columns=['provincia_id', 'autos_patent_1000hab'], # columna con id de geometrías, columna con el dato\n",
    "    key_on='feature.properties.id', # campo del geojson que tiene el id de las geometrías\n",
    "    fill_color='YlGn', # escala de colores a usar\n",
    "    fill_opacity=0.7, # opacidad del color de relleno\n",
    "    line_opacity=0.2, # opacidad de las líneas que separan los polígonos\n",
    "    legend_name='Nuevas patentes cada 1000 habitantes', # título de la leyenda de la escala\n",
    ").add_to(mapa_patentamientos)"
   ]
  },
  {
   "cell_type": "code",
   "execution_count": null,
   "metadata": {
    "ExecuteTime": {
     "start_time": "2019-07-27T22:16:20.664Z"
    }
   },
   "outputs": [],
   "source": [
    "mapa_patentamientos"
   ]
  },
  {
   "cell_type": "markdown",
   "metadata": {},
   "source": [
    "Tierra del Fuego se separa mucho del resto de las provincias, opacando el mapa de calor del resto por sus valores extremos. Para esto podemos especificar segmentos personalizados en el mapa de folium, por ejemplo usando cuantiles donde caiga la misma cantidad de provincias en cada uno."
   ]
  },
  {
   "cell_type": "code",
   "execution_count": null,
   "metadata": {
    "ExecuteTime": {
     "start_time": "2019-07-27T22:16:20.666Z"
    }
   },
   "outputs": [],
   "source": [
    "# creamos 5 bins con un quinto de las provincias en cada uno\n",
    "bins = list(df_patentamientos['autos_patent_1000hab'].quantile([0, 0.2, 0.4, 0.6, 0.8, 1]))\n",
    "bins"
   ]
  },
  {
   "cell_type": "code",
   "execution_count": null,
   "metadata": {
    "ExecuteTime": {
     "start_time": "2019-07-27T22:16:20.669Z"
    }
   },
   "outputs": [],
   "source": [
    "# tenemos que resetear el mapa para cambiar la capa\n",
    "mapa_patentamientos = folium.Map(location=argentina_coords, zoom_start=4)\n",
    "folium.TileLayer(ign_labels, tms=True, attr=\"IGN\").add_to(mapa_patentamientos)"
   ]
  },
  {
   "cell_type": "code",
   "execution_count": null,
   "metadata": {
    "ExecuteTime": {
     "start_time": "2019-07-27T22:16:20.671Z"
    }
   },
   "outputs": [],
   "source": [
    "folium.Choropleth(\n",
    "    geo_data=\"data/provincias.geojson\", # la capa de provincias en GeoJson\n",
    "    data=df_patentamientos, # DataFrame con los datos a graficar\n",
    "    columns=['provincia_id', 'autos_patent_1000hab'], # columna con id de geometrías, columna con el dato\n",
    "    key_on='feature.properties.id', # campo del geojson que tiene el id de las geometrías\n",
    "    fill_color='YlGn', # escala de colores a usar\n",
    "    fill_opacity=0.7, # opacidad del color de relleno\n",
    "    line_opacity=0.2, # opacidad de las líneas que separan los polígonos\n",
    "    legend_name='Nuevas patentes cada 1000 habitantes', # título de la leyenda de la escala,\n",
    "    bins=bins # especifica segmentos personalizados\n",
    ").add_to(mapa_patentamientos)"
   ]
  },
  {
   "cell_type": "code",
   "execution_count": null,
   "metadata": {
    "ExecuteTime": {
     "start_time": "2019-07-27T22:16:20.675Z"
    }
   },
   "outputs": [],
   "source": [
    "mapa_patentamientos"
   ]
  },
  {
   "cell_type": "markdown",
   "metadata": {},
   "source": [
    "Ahora podemos querer agregar labels ubicados en los centroides de las provincias, para esto vamos a tener que crear algunas funciones."
   ]
  },
  {
   "cell_type": "code",
   "execution_count": null,
   "metadata": {
    "ExecuteTime": {
     "start_time": "2019-07-27T22:16:20.677Z"
    }
   },
   "outputs": [],
   "source": [
    "def add_label(folium_map, label, latitude, longitude, font_size=8):\n",
    "    \"\"\"Agrega un texto en determinadas coordenadas en un mapa de folium.\"\"\"\n",
    "    \n",
    "    folium.map.Marker(\n",
    "        [latitude, longitude],\n",
    "        icon=folium.features.DivIcon(html='<div style=\"font-size: {}pt\">{}</div>'.format(font_size, label))\n",
    "    ).add_to(folium_map)"
   ]
  },
  {
   "cell_type": "code",
   "execution_count": null,
   "metadata": {
    "ExecuteTime": {
     "start_time": "2019-07-27T22:16:20.678Z"
    }
   },
   "outputs": [],
   "source": [
    "def add_labels_from_column(folium_map, gdf, label_column, font_size=7):\n",
    "    \"\"\"Agrega textos de una columna de un GeoDataframe en centroides de las geometrías.\"\"\"\n",
    "    \n",
    "    for centroid, label in zip(gdf.geometry.centroid, gdf[label_column]):\n",
    "        latitude = centroid.coords[0][1]\n",
    "        longitude = centroid.coords[0][0]\n",
    "        add_label(folium_map, label, latitude, longitude, font_size=font_size)"
   ]
  },
  {
   "cell_type": "code",
   "execution_count": null,
   "metadata": {
    "ExecuteTime": {
     "start_time": "2019-07-27T22:16:20.685Z"
    }
   },
   "outputs": [],
   "source": [
    "add_labels_from_column(mapa_patentamientos, provincias, \"nombre\")\n",
    "\n",
    "mapa_patentamientos"
   ]
  },
  {
   "cell_type": "markdown",
   "metadata": {},
   "source": [
    "Tal vez en lugar del nombre de las provincias queremos agregar el valor que estamos graficando, para esto hacemos un merge entre el geodataframe y el dataframe que contiene los valores graficados."
   ]
  },
  {
   "cell_type": "code",
   "execution_count": null,
   "metadata": {
    "ExecuteTime": {
     "start_time": "2019-07-27T22:16:20.687Z"
    }
   },
   "outputs": [],
   "source": [
    "provincias_merged = provincias.merge(df_patentamientos, left_on=\"id\", right_on=\"provincia_id\")"
   ]
  },
  {
   "cell_type": "code",
   "execution_count": null,
   "metadata": {
    "ExecuteTime": {
     "start_time": "2019-07-27T22:16:20.694Z"
    }
   },
   "outputs": [],
   "source": [
    "# reseteamos el mapa\n",
    "mapa_patentamientos = folium.Map(location=argentina_coords, zoom_start=4)\n",
    "folium.TileLayer(ign_labels, tms=True, attr=\"IGN\").add_to(mapa_patentamientos)\n",
    "\n",
    "# agregamos la capa con el mapa de calor\n",
    "folium.Choropleth(\n",
    "    geo_data=\"data/provincias.geojson\", # la capa de provincias en GeoJson\n",
    "    data=df_patentamientos, # DataFrame con los datos a graficar\n",
    "    columns=['provincia_id', 'autos_patent_1000hab'], # columna con id de geometrías, columna con el dato\n",
    "    key_on='feature.properties.id', # campo del geojson que tiene el id de las geometrías\n",
    "    fill_color='YlGn', # escala de colores a usar\n",
    "    fill_opacity=0.7, # opacidad del color de relleno\n",
    "    line_opacity=0.2, # opacidad de las líneas que separan los polígonos\n",
    "    legend_name='Nuevas patentes cada 1000 habitantes', # título de la leyenda de la escala,\n",
    "    bins=bins # especifica segmentos personalizados\n",
    ").add_to(mapa_patentamientos)\n",
    "\n",
    "# agregamos los valores como labels\n",
    "add_labels_from_column(mapa_patentamientos, provincias_merged, \"autos_patent_1000hab\")\n",
    "\n",
    "mapa_patentamientos"
   ]
  },
  {
   "cell_type": "markdown",
   "metadata": {},
   "source": [
    "El mapa anterior se ve mal porque el valor tiene demasiados decimales, esto se puede arreglar fácilmente redondeando los decimales de un dataframe con `df.round(1)`."
   ]
  },
  {
   "cell_type": "code",
   "execution_count": null,
   "metadata": {
    "ExecuteTime": {
     "start_time": "2019-07-27T22:16:20.699Z"
    }
   },
   "outputs": [],
   "source": [
    "# reseteamos el mapa\n",
    "mapa_patentamientos = folium.Map(location=argentina_coords, zoom_start=4)\n",
    "folium.TileLayer(ign_labels, tms=True, attr=\"IGN\").add_to(mapa_patentamientos)\n",
    "\n",
    "# agregamos la capa con el mapa de calor\n",
    "folium.Choropleth(\n",
    "    geo_data=\"data/provincias.geojson\", # la capa de provincias en GeoJson\n",
    "    data=df_patentamientos, # DataFrame con los datos a graficar\n",
    "    columns=['provincia_id', 'autos_patent_1000hab'], # columna con id de geometrías, columna con el dato\n",
    "    key_on='feature.properties.id', # campo del geojson que tiene el id de las geometrías\n",
    "    fill_color='YlGn', # escala de colores a usar\n",
    "    fill_opacity=0.7, # opacidad del color de relleno\n",
    "    line_opacity=0.2, # opacidad de las líneas que separan los polígonos\n",
    "    legend_name='Nuevas patentes cada 1000 habitantes', # título de la leyenda de la escala,\n",
    "    bins=bins # especifica segmentos personalizados\n",
    ").add_to(mapa_patentamientos)\n",
    "\n",
    "# agregamos los valores como labels\n",
    "add_labels_from_column(mapa_patentamientos, provincias_merged.round(1), \"autos_patent_1000hab\")\n",
    "\n",
    "mapa_patentamientos"
   ]
  },
  {
   "cell_type": "markdown",
   "metadata": {
    "ExecuteTime": {
     "end_time": "2019-07-27T22:15:38.024796Z",
     "start_time": "2019-07-27T22:15:38.020969Z"
    }
   },
   "source": [
    "Se puede crear también un mapa dual, donde podemos elegir asignar las capas a ambos mapas, a la izquierda o a la derecha."
   ]
  },
  {
   "cell_type": "code",
   "execution_count": null,
   "metadata": {
    "ExecuteTime": {
     "start_time": "2019-07-27T22:16:20.703Z"
    }
   },
   "outputs": [],
   "source": [
    "# creamos un mapa dual tal como si fuera un mapa normal\n",
    "mapa_dual = folium.plugins.DualMap(location=argentina_coords, zoom_start=4)\n",
    "folium.TileLayer(ign_labels, tms=True, attr=\"IGN\").add_to(mapa_dual)\n",
    "\n",
    "mapa_dual"
   ]
  },
  {
   "cell_type": "code",
   "execution_count": null,
   "metadata": {
    "ExecuteTime": {
     "start_time": "2019-07-27T22:16:20.716Z"
    }
   },
   "outputs": [],
   "source": [
    "# creamos un mapa dual tal como si fuera un mapa normal\n",
    "mapa_dual = folium.plugins.DualMap(location=argentina_coords, zoom_start=4)\n",
    "folium.TileLayer(ign_labels, tms=True, attr=\"IGN\").add_to(mapa_dual)\n",
    "\n",
    "# agregamos la capa con el mapa de calor SIN bins personalizados al mapa de la izquierda\n",
    "folium.Choropleth(\n",
    "    geo_data=\"data/provincias.geojson\", # la capa de provincias en GeoJson\n",
    "    data=df_patentamientos, # DataFrame con los datos a graficar\n",
    "    columns=['provincia_id', 'autos_patent_1000hab'], # columna con id de geometrías, columna con el dato\n",
    "    key_on='feature.properties.id', # campo del geojson que tiene el id de las geometrías\n",
    "    fill_color='YlGn', # escala de colores a usar\n",
    "    fill_opacity=0.7, # opacidad del color de relleno\n",
    "    line_opacity=0.2, # opacidad de las líneas que separan los polígonos\n",
    "    legend_name='Nuevas patentes cada 1000 habitantes' # título de la leyenda de la escala,\n",
    ").add_to(mapa_dual)\n",
    "\n",
    "# agregamos los valores como labels\n",
    "add_labels_from_column(mapa_dual.m1, provincias_merged.round(1), \"autos_patent_1000hab\")\n",
    "add_labels_from_column(mapa_dual.m2, provincias_merged, \"nombre\")\n",
    "\n",
    "mapa_dual"
   ]
  },
  {
   "cell_type": "code",
   "execution_count": null,
   "metadata": {},
   "outputs": [],
   "source": []
  }
 ],
 "metadata": {
  "kernelspec": {
   "display_name": "Python 3",
   "language": "python",
   "name": "python3"
  },
  "language_info": {
   "codemirror_mode": {
    "name": "ipython",
    "version": 3
   },
   "file_extension": ".py",
   "mimetype": "text/x-python",
   "name": "python",
   "nbconvert_exporter": "python",
   "pygments_lexer": "ipython3",
   "version": "3.7.1"
  },
  "toc": {
   "base_numbering": 1,
   "nav_menu": {},
   "number_sections": true,
   "sideBar": true,
   "skip_h1_title": false,
   "title_cell": "Table of Contents",
   "title_sidebar": "Contents",
   "toc_cell": false,
   "toc_position": {},
   "toc_section_display": true,
   "toc_window_display": false
  }
 },
 "nbformat": 4,
 "nbformat_minor": 2
}
